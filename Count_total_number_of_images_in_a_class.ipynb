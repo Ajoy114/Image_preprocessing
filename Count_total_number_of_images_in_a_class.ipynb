{
  "nbformat": 4,
  "nbformat_minor": 0,
  "metadata": {
    "colab": {
      "provenance": []
    },
    "kernelspec": {
      "name": "python3",
      "display_name": "Python 3"
    },
    "language_info": {
      "name": "python"
    }
  },
  "cells": [
    {
      "cell_type": "code",
      "execution_count": null,
      "metadata": {
        "colab": {
          "base_uri": "https://localhost:8080/"
        },
        "id": "G3ZRil_kmHFD",
        "outputId": "2d75080b-0902-44a9-8767-765ac0d294f0"
      },
      "outputs": [
        {
          "output_type": "stream",
          "name": "stdout",
          "text": [
            "Mounted at /content/drive\n"
          ]
        }
      ],
      "source": [
        "from google.colab import drive\n",
        "drive.mount('/content/drive')"
      ]
    },
    {
      "cell_type": "code",
      "source": [
        "!pip install Pillow"
      ],
      "metadata": {
        "colab": {
          "base_uri": "https://localhost:8080/"
        },
        "id": "4oMDh0kDmLzO",
        "outputId": "19144962-ffac-46d2-8551-11cf2bfeb35b"
      },
      "execution_count": null,
      "outputs": [
        {
          "output_type": "stream",
          "name": "stdout",
          "text": [
            "Requirement already satisfied: Pillow in /usr/local/lib/python3.10/dist-packages (9.4.0)\n"
          ]
        }
      ]
    },
    {
      "cell_type": "markdown",
      "source": [
        "# **Count total number of images in a class**"
      ],
      "metadata": {
        "id": "LHPi440jfJXd"
      }
    },
    {
      "cell_type": "code",
      "source": [
        "import os\n",
        "dataset_dir = '/content/drive/MyDrive/Dataset/class1'\n",
        "\n",
        "# Initialize a count variable\n",
        "image_count = 0\n",
        "\n",
        "# Iterate through files in the directory\n",
        "for filename in os.listdir(dataset_dir):\n",
        "    if filename.endswith(('.jpg', '.jpeg', '.png', '.bmp', '.heic','.HEIC')):\n",
        "        image_count += 1\n",
        "\n",
        "print(f\"Total number of images in the dataset: {image_count}\")"
      ],
      "metadata": {
        "colab": {
          "base_uri": "https://localhost:8080/"
        },
        "id": "fUN4HSp3-q84",
        "outputId": "b30397e2-8d2b-42bb-8419-8ee1cbbcb623"
      },
      "execution_count": null,
      "outputs": [
        {
          "output_type": "stream",
          "name": "stdout",
          "text": [
            "Total number of images in the dataset: 188\n"
          ]
        }
      ]
    },
    {
      "cell_type": "code",
      "source": [
        "dataset_dir = '/content/drive/MyDrive/Dataset/class2'\n",
        "\n",
        "# Initialize a count variable\n",
        "image_count = 0\n",
        "\n",
        "# Iterate through files in the directory\n",
        "for filename in os.listdir(dataset_dir):\n",
        "    if filename.endswith(('.jpg', '.jpeg', '.png', '.bmp', '.heic','.HEIC')):\n",
        "        image_count += 1\n",
        "\n",
        "print(f\"Total number of images in the dataset: {image_count}\")"
      ],
      "metadata": {
        "colab": {
          "base_uri": "https://localhost:8080/"
        },
        "id": "aI-xsuT7gj28",
        "outputId": "cdf54479-3740-4480-afac-2e140b61690f"
      },
      "execution_count": null,
      "outputs": [
        {
          "output_type": "stream",
          "name": "stdout",
          "text": [
            "Total number of images in the dataset: 232\n"
          ]
        }
      ]
    },
    {
      "cell_type": "code",
      "source": [
        "dataset_dir = '/content/drive/MyDrive/Dataset/class3'\n",
        "\n",
        "# Initialize a count variable\n",
        "image_count = 0\n",
        "\n",
        "# Iterate through files in the directory\n",
        "for filename in os.listdir(dataset_dir):\n",
        "    if filename.endswith(('.jpg', '.jpeg', '.png', '.bmp', '.heic','.HEIC')):\n",
        "        image_count += 1\n",
        "\n",
        "print(f\"Total number of images in the dataset: {image_count}\")"
      ],
      "metadata": {
        "colab": {
          "base_uri": "https://localhost:8080/"
        },
        "id": "ptZmMkkBg9T0",
        "outputId": "3f9c9932-8a42-4616-c7e0-71f9895c3b10"
      },
      "execution_count": null,
      "outputs": [
        {
          "output_type": "stream",
          "name": "stdout",
          "text": [
            "Total number of images in the dataset: 202\n"
          ]
        }
      ]
    },
    {
      "cell_type": "code",
      "source": [
        "dataset_dir = '/content/drive/MyDrive/Dataset/class4'\n",
        "\n",
        "# Initialize a count variable\n",
        "image_count = 0\n",
        "\n",
        "# Iterate through files in the directory\n",
        "for filename in os.listdir(dataset_dir):\n",
        "    if filename.endswith(('.jpg', '.jpeg', '.png', '.bmp', '.heic','.HEIC')):\n",
        "        image_count += 1\n",
        "\n",
        "print(f\"Total number of images in the dataset: {image_count}\")"
      ],
      "metadata": {
        "colab": {
          "base_uri": "https://localhost:8080/"
        },
        "id": "ztyagRFkg9BG",
        "outputId": "8bc69574-63ec-451d-fa0b-fc669d731fe1"
      },
      "execution_count": null,
      "outputs": [
        {
          "output_type": "stream",
          "name": "stdout",
          "text": [
            "Total number of images in the dataset: 197\n"
          ]
        }
      ]
    },
    {
      "cell_type": "code",
      "source": [
        "dataset_dir = '/content/drive/MyDrive/Dataset/class5'\n",
        "\n",
        "# Initialize a count variable\n",
        "image_count = 0\n",
        "\n",
        "# Iterate through files in the directory\n",
        "for filename in os.listdir(dataset_dir):\n",
        "    if filename.endswith(('.jpg', '.jpeg', '.png', '.bmp', '.heic','.HEIC')):\n",
        "        image_count += 1\n",
        "\n",
        "print(f\"Total number of images in the dataset: {image_count}\")"
      ],
      "metadata": {
        "colab": {
          "base_uri": "https://localhost:8080/"
        },
        "id": "gjTu1coNg8tv",
        "outputId": "4dde9c67-754e-46a1-b2a2-f046aa0a70c5"
      },
      "execution_count": null,
      "outputs": [
        {
          "output_type": "stream",
          "name": "stdout",
          "text": [
            "Total number of images in the dataset: 194\n"
          ]
        }
      ]
    }
  ]
}